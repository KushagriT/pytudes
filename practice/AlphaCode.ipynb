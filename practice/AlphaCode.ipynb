{
 "cells": [
  {
   "cell_type": "markdown",
   "metadata": {},
   "source": [
    "## Backspacer Programs"
   ]
  },
  {
   "cell_type": "code",
   "execution_count": 1,
   "metadata": {},
   "outputs": [],
   "source": [
    "def backspacer_alphacode(s,t):\n",
    "    a = []\n",
    "    b = []\n",
    "    for i in s:\n",
    "        a.append(i)\n",
    "    for j in t:\n",
    "        b.append(j)\n",
    "    a.reverse()\n",
    "    b.reverse()\n",
    "    c = []\n",
    "    while len(a)!=0 and len(b)!=0:\n",
    "        if a[0] == b[0]:\n",
    "            a.pop(0)\n",
    "            c.append(b.pop(0))\n",
    "        elif a[0]!= b[0] and len(a)!=1:\n",
    "            a.pop(0)\n",
    "            a.pop(0)\n",
    "        elif a[0]!=b[0] and len(a)==1:\n",
    "            a.pop(0)\n",
    "    if len(b)==0:\n",
    "        return True\n",
    "    else:\n",
    "        return False\n",
    "        "
   ]
  },
  {
   "cell_type": "code",
   "execution_count": 2,
   "metadata": {},
   "outputs": [],
   "source": [
    "def backspacer_driver(backspacer=backspacer_alphacode):\n",
    "    for _ in range(int(input())):\n",
    "        s, t = input(), input()\n",
    "        if backspacer(s, t):\n",
    "            print(\"YES\")\n",
    "        else:\n",
    "            print(\"NO\")"
   ]
  },
  {
   "cell_type": "code",
   "execution_count": 12,
   "metadata": {},
   "outputs": [],
   "source": [
    "def backspacer_strings(source: str, target: str) -> bool:\n",
    "    while source and not source.endswith(target):\n",
    "        if source[-1]==target[-1]:\n",
    "            source,target = source[:-1], target[:-1]\n",
    "        else:\n",
    "            source = source[:-2]\n",
    "    return source.endswith(target)"
   ]
  },
  {
   "cell_type": "code",
   "execution_count": 4,
   "metadata": {},
   "outputs": [],
   "source": [
    "def backspacer_lists(source,target):\n",
    "    s = list(source)\n",
    "    t = list(target)\n",
    "    while s and t:\n",
    "        ch = s.pop()\n",
    "        if ch == t[-1]:\n",
    "            t.pop()\n",
    "        elif s:\n",
    "            s.pop()\n",
    "    return not t\n"
   ]
  },
  {
   "cell_type": "code",
   "execution_count": 5,
   "metadata": {},
   "outputs": [],
   "source": [
    "def backspacer_slow(source,target):\n",
    "    return target in possible_outputs(source)\n",
    "\n",
    "def possible_outputs(source):\n",
    "    outputs = {''}\n",
    "    for c in source:\n",
    "        outputs = union({out+c,out[:-1]} for out in outputs)\n",
    "    return outputs\n",
    "\n",
    "def union(sets):\n",
    "    return set().union(*sets)"
   ]
  },
  {
   "cell_type": "code",
   "execution_count": 6,
   "metadata": {},
   "outputs": [],
   "source": [
    "def tests(backspacer, n=6000):\n",
    "    \"\"\"Test a backspacer function on a variety of (source, target) pairs.\"\"\"\n",
    "    assert backspacer('ababa', 'ba'),           \"example 1 from problem statement\"\n",
    "    assert backspacer('ababa', 'bb') is False,  \"example 2 from problem statement\"\n",
    "    assert backspacer('aaa', 'aaaa') is False,  \"example 3 from problem statement\"\n",
    "    assert backspacer('aababa', 'ababa'),       \"example 4 from problem statement\"\n",
    "    assert backspacer('abc...c', 'abc'),        \"odd part of right-to-left proof\"\n",
    "    assert backspacer('abc..c', 'abc') is False,\"even part of right-to-left proof\"\n",
    "    assert backspacer('ab..c', 'abc'),          \"delete 2 characters from middle\"\n",
    "    assert backspacer('ab.c', 'abc') is False,  \"can't delete one character from middle\"\n",
    "    assert backspacer('abc.', 'abc') is False,  \"can't delete one character from end\"\n",
    "    assert backspacer('.abc', 'abc'),           \"can delete one character from start\"\n",
    "    assert backspacer('', ''),                  \"can always obtain empty string t\"\n",
    "    assert backspacer('a', ''),                 \"can always obtain empty string t\"\n",
    "    assert backspacer('ab', ''),                \"can always obtain empty string t\"\n",
    "    assert backspacer('a', 'b') is False,       \"can't obtain novel character\"\n",
    "    assert backspacer('', 'a') is False,        \"can't get something from nothing\"\n",
    "    assert backspacer('ab.ab', 'ab'),           \"don't choose leftmost ab\"\n",
    "    assert backspacer('ab.ab.', 'ab'),          \"must choose leftmost ab\"\n",
    "    \n",
    "    t = n * 'abcba'                             # Long target string (5n characters)\n",
    "    assert backspacer(t, t),                    \"long source and target (no backspaces needed)\"\n",
    "    assert backspacer('a' + t, t),              \"long source and target (one backspace needed)\"\n",
    "    assert backspacer(t, t + 'a') is False,     \"long source and target (no solution possible)\"\n",
    "    assert backspacer(t + 'a', t) is False,     \"long source and target (no solution possible)\"\n",
    "    assert backspacer('ab'.join(t), t),         \"longer source (10n-2 backspaces needed)\"\n",
    "    \n",
    "    return True"
   ]
  },
  {
   "cell_type": "code",
   "execution_count": 7,
   "metadata": {},
   "outputs": [
    {
     "name": "stdout",
     "output_type": "stream",
     "text": [
      "CPU times: user 1.36 s, sys: 730 µs, total: 1.36 s\n",
      "Wall time: 1.45 s\n"
     ]
    },
    {
     "data": {
      "text/plain": [
       "True"
      ]
     },
     "execution_count": 7,
     "metadata": {},
     "output_type": "execute_result"
    }
   ],
   "source": [
    "%time tests(backspacer_alphacode)"
   ]
  },
  {
   "cell_type": "code",
   "execution_count": 13,
   "metadata": {},
   "outputs": [
    {
     "name": "stdout",
     "output_type": "stream",
     "text": [
      "CPU times: user 189 ms, sys: 312 µs, total: 189 ms\n",
      "Wall time: 197 ms\n"
     ]
    },
    {
     "data": {
      "text/plain": [
       "True"
      ]
     },
     "execution_count": 13,
     "metadata": {},
     "output_type": "execute_result"
    }
   ],
   "source": [
    "%time tests(backspacer_strings)"
   ]
  },
  {
   "cell_type": "code",
   "execution_count": 14,
   "metadata": {},
   "outputs": [
    {
     "name": "stdout",
     "output_type": "stream",
     "text": [
      "CPU times: user 34.2 ms, sys: 0 ns, total: 34.2 ms\n",
      "Wall time: 34.2 ms\n"
     ]
    },
    {
     "data": {
      "text/plain": [
       "True"
      ]
     },
     "execution_count": 14,
     "metadata": {},
     "output_type": "execute_result"
    }
   ],
   "source": [
    "%time tests(backspacer_lists)"
   ]
  },
  {
   "cell_type": "code",
   "execution_count": 15,
   "metadata": {},
   "outputs": [
    {
     "name": "stdout",
     "output_type": "stream",
     "text": [
      "CPU times: user 303 ms, sys: 22.8 ms, total: 326 ms\n",
      "Wall time: 349 ms\n"
     ]
    },
    {
     "data": {
      "text/plain": [
       "True"
      ]
     },
     "execution_count": 15,
     "metadata": {},
     "output_type": "execute_result"
    }
   ],
   "source": [
    "%time tests(backspacer_slow, n=2)"
   ]
  },
  {
   "cell_type": "code",
   "execution_count": null,
   "metadata": {},
   "outputs": [],
   "source": []
  }
 ],
 "metadata": {
  "kernelspec": {
   "display_name": "Python 3",
   "language": "python",
   "name": "python3"
  },
  "language_info": {
   "codemirror_mode": {
    "name": "ipython",
    "version": 3
   },
   "file_extension": ".py",
   "mimetype": "text/x-python",
   "name": "python",
   "nbconvert_exporter": "python",
   "pygments_lexer": "ipython3",
   "version": "3.10.8"
  },
  "orig_nbformat": 4
 },
 "nbformat": 4,
 "nbformat_minor": 2
}
